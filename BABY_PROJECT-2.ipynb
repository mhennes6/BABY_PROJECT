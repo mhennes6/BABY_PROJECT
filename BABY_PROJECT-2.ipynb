{
 "cells": [
  {
   "cell_type": "code",
   "execution_count": 19,
   "metadata": {},
   "outputs": [],
   "source": [
    "import pandas as pd\n",
    "import json"
   ]
  },
  {
   "cell_type": "code",
   "execution_count": null,
   "metadata": {},
   "outputs": [],
   "source": []
  },
  {
   "cell_type": "code",
   "execution_count": 20,
   "metadata": {},
   "outputs": [],
   "source": [
    "with open('baby.json') as data_file:\n",
    "    data = json.load(data_file)\n",
    "with open('baby2.json') as data_file:\n",
    "    data2 = json.load(data_file)\n",
    "with open('baby3.json') as data_file:\n",
    "    data3 = json.load(data_file)"
   ]
  },
  {
   "cell_type": "code",
   "execution_count": 21,
   "metadata": {},
   "outputs": [],
   "source": [
    "df_accounts = pd.json_normalize(data, record_path=['AccountAllocations', 'Accounts'\n",
    "                                                    ])[['Key', 'Description']]\n",
    "df_accounts2 = pd.json_normalize(data2, record_path=['AccountAllocations', 'Accounts'\n",
    "                                                    ])[['Key', 'Description']]\n",
    "df_accounts3 = pd.json_normalize(data3, record_path=['AccountAllocations', 'Accounts'\n",
    "                                                    ])[['Key', 'Description']]"
   ]
  },
  {
   "cell_type": "code",
   "execution_count": 22,
   "metadata": {},
   "outputs": [
    {
     "data": {
      "text/html": [
       "<div>\n",
       "<style scoped>\n",
       "    .dataframe tbody tr th:only-of-type {\n",
       "        vertical-align: middle;\n",
       "    }\n",
       "\n",
       "    .dataframe tbody tr th {\n",
       "        vertical-align: top;\n",
       "    }\n",
       "\n",
       "    .dataframe thead th {\n",
       "        text-align: right;\n",
       "    }\n",
       "</style>\n",
       "<table border=\"1\" class=\"dataframe\">\n",
       "  <thead>\n",
       "    <tr style=\"text-align: right;\">\n",
       "      <th></th>\n",
       "      <th>Key</th>\n",
       "      <th>Description</th>\n",
       "    </tr>\n",
       "  </thead>\n",
       "  <tbody>\n",
       "    <tr>\n",
       "      <th>0</th>\n",
       "      <td>Fixed</td>\n",
       "      <td>Fixed</td>\n",
       "    </tr>\n",
       "    <tr>\n",
       "      <th>1</th>\n",
       "      <td>FixedLT</td>\n",
       "      <td>FixedLT</td>\n",
       "    </tr>\n",
       "    <tr>\n",
       "      <th>2</th>\n",
       "      <td>1YrA</td>\n",
       "      <td>1-Year Indexed Account</td>\n",
       "    </tr>\n",
       "    <tr>\n",
       "      <th>3</th>\n",
       "      <td>1YrD</td>\n",
       "      <td>1-Year No Cap Indexed Account</td>\n",
       "    </tr>\n",
       "    <tr>\n",
       "      <th>4</th>\n",
       "      <td>1YrF</td>\n",
       "      <td>1-Year High Cap Plus Indexed Account</td>\n",
       "    </tr>\n",
       "    <tr>\n",
       "      <th>5</th>\n",
       "      <td>Var</td>\n",
       "      <td>Variable Account</td>\n",
       "    </tr>\n",
       "  </tbody>\n",
       "</table>\n",
       "</div>"
      ],
      "text/plain": [
       "       Key                           Description\n",
       "0    Fixed                                 Fixed\n",
       "1  FixedLT                               FixedLT\n",
       "2     1YrA                1-Year Indexed Account\n",
       "3     1YrD         1-Year No Cap Indexed Account\n",
       "4     1YrF  1-Year High Cap Plus Indexed Account\n",
       "5      Var                      Variable Account"
      ]
     },
     "execution_count": 22,
     "metadata": {},
     "output_type": "execute_result"
    }
   ],
   "source": [
    "df_accounts"
   ]
  },
  {
   "cell_type": "code",
   "execution_count": 23,
   "metadata": {},
   "outputs": [],
   "source": [
    "df_allocations= pd.json_normalize(data, record_path=['FundAllocationFuture'])[['Manager','Allocation']]\n",
    "df_allocations2= pd.json_normalize(data2, record_path=['FundAllocationFuture'])[['Manager','Allocation']]\n",
    "df_allocations3= pd.json_normalize(data3, record_path=['FundAllocationFuture'])[['Manager','Allocation']]\n",
    "merged_allocations=df_allocations.merge(df_allocations2, on='Manager')\n",
    "merged_allocations=merged_allocations.merge(df_allocations3, on='Manager')"
   ]
  },
  {
   "cell_type": "code",
   "execution_count": 24,
   "metadata": {},
   "outputs": [
    {
     "data": {
      "text/html": [
       "<div>\n",
       "<style scoped>\n",
       "    .dataframe tbody tr th:only-of-type {\n",
       "        vertical-align: middle;\n",
       "    }\n",
       "\n",
       "    .dataframe tbody tr th {\n",
       "        vertical-align: top;\n",
       "    }\n",
       "\n",
       "    .dataframe thead th {\n",
       "        text-align: right;\n",
       "    }\n",
       "</style>\n",
       "<table border=\"1\" class=\"dataframe\">\n",
       "  <thead>\n",
       "    <tr style=\"text-align: right;\">\n",
       "      <th></th>\n",
       "      <th>Manager</th>\n",
       "      <th>Allocation</th>\n",
       "    </tr>\n",
       "  </thead>\n",
       "  <tbody>\n",
       "    <tr>\n",
       "      <th>0</th>\n",
       "      <td>Vanguard</td>\n",
       "      <td>100%</td>\n",
       "    </tr>\n",
       "  </tbody>\n",
       "</table>\n",
       "</div>"
      ],
      "text/plain": [
       "    Manager Allocation\n",
       "0  Vanguard       100%"
      ]
     },
     "execution_count": 24,
     "metadata": {},
     "output_type": "execute_result"
    }
   ],
   "source": [
    "df_allocations"
   ]
  },
  {
   "cell_type": "code",
   "execution_count": 25,
   "metadata": {},
   "outputs": [
    {
     "data": {
      "text/html": [
       "<div>\n",
       "<style scoped>\n",
       "    .dataframe tbody tr th:only-of-type {\n",
       "        vertical-align: middle;\n",
       "    }\n",
       "\n",
       "    .dataframe tbody tr th {\n",
       "        vertical-align: top;\n",
       "    }\n",
       "\n",
       "    .dataframe thead th {\n",
       "        text-align: right;\n",
       "    }\n",
       "</style>\n",
       "<table border=\"1\" class=\"dataframe\">\n",
       "  <thead>\n",
       "    <tr style=\"text-align: right;\">\n",
       "      <th></th>\n",
       "      <th>Manager</th>\n",
       "      <th>Allocation</th>\n",
       "    </tr>\n",
       "  </thead>\n",
       "  <tbody>\n",
       "    <tr>\n",
       "      <th>0</th>\n",
       "      <td>Vanguard</td>\n",
       "      <td>100%</td>\n",
       "    </tr>\n",
       "  </tbody>\n",
       "</table>\n",
       "</div>"
      ],
      "text/plain": [
       "    Manager Allocation\n",
       "0  Vanguard       100%"
      ]
     },
     "execution_count": 25,
     "metadata": {},
     "output_type": "execute_result"
    }
   ],
   "source": [
    "df_allocations2"
   ]
  },
  {
   "cell_type": "code",
   "execution_count": 26,
   "metadata": {},
   "outputs": [
    {
     "data": {
      "text/html": [
       "<div>\n",
       "<style scoped>\n",
       "    .dataframe tbody tr th:only-of-type {\n",
       "        vertical-align: middle;\n",
       "    }\n",
       "\n",
       "    .dataframe tbody tr th {\n",
       "        vertical-align: top;\n",
       "    }\n",
       "\n",
       "    .dataframe thead th {\n",
       "        text-align: right;\n",
       "    }\n",
       "</style>\n",
       "<table border=\"1\" class=\"dataframe\">\n",
       "  <thead>\n",
       "    <tr style=\"text-align: right;\">\n",
       "      <th></th>\n",
       "      <th>Manager</th>\n",
       "      <th>Allocation</th>\n",
       "    </tr>\n",
       "  </thead>\n",
       "  <tbody>\n",
       "    <tr>\n",
       "      <th>0</th>\n",
       "      <td>Vanguard</td>\n",
       "      <td>100%</td>\n",
       "    </tr>\n",
       "  </tbody>\n",
       "</table>\n",
       "</div>"
      ],
      "text/plain": [
       "    Manager Allocation\n",
       "0  Vanguard       100%"
      ]
     },
     "execution_count": 26,
     "metadata": {},
     "output_type": "execute_result"
    }
   ],
   "source": [
    "df_allocations3"
   ]
  },
  {
   "cell_type": "code",
   "execution_count": 27,
   "metadata": {},
   "outputs": [
    {
     "data": {
      "text/html": [
       "<div>\n",
       "<style scoped>\n",
       "    .dataframe tbody tr th:only-of-type {\n",
       "        vertical-align: middle;\n",
       "    }\n",
       "\n",
       "    .dataframe tbody tr th {\n",
       "        vertical-align: top;\n",
       "    }\n",
       "\n",
       "    .dataframe thead th {\n",
       "        text-align: right;\n",
       "    }\n",
       "</style>\n",
       "<table border=\"1\" class=\"dataframe\">\n",
       "  <thead>\n",
       "    <tr style=\"text-align: right;\">\n",
       "      <th></th>\n",
       "      <th>Manager</th>\n",
       "      <th>Allocation_x</th>\n",
       "      <th>Allocation_y</th>\n",
       "      <th>Allocation</th>\n",
       "    </tr>\n",
       "  </thead>\n",
       "  <tbody>\n",
       "    <tr>\n",
       "      <th>0</th>\n",
       "      <td>Vanguard</td>\n",
       "      <td>100%</td>\n",
       "      <td>100%</td>\n",
       "      <td>100%</td>\n",
       "    </tr>\n",
       "  </tbody>\n",
       "</table>\n",
       "</div>"
      ],
      "text/plain": [
       "    Manager Allocation_x Allocation_y Allocation\n",
       "0  Vanguard         100%         100%       100%"
      ]
     },
     "execution_count": 27,
     "metadata": {},
     "output_type": "execute_result"
    }
   ],
   "source": [
    "merged_allocations"
   ]
  },
  {
   "cell_type": "code",
   "execution_count": 28,
   "metadata": {},
   "outputs": [],
   "source": [
    "# 1) The accounts that are available for the policyholder are labeled Fixed, FixedLT, 1YrA, \n",
    "# 1YrD, 1YrF, and Var. The description tab in the json file shows that these labels indicate\n",
    "# Fixed Account, Fixed Long-Term Account, 1-Year Indexed Account, 1-Year No Cap \n",
    "# Indexed Account, 1-Year High Cap Plus Indexed Account, and Variable Account respectively."
   ]
  },
  {
   "cell_type": "code",
   "execution_count": 29,
   "metadata": {},
   "outputs": [],
   "source": [
    "# 2) Four summary tables were produced to show the percentage of application each applicant \n",
    "# had in each account. The tables are as follows in the notebook, with the first a table for \n",
    "# each individual applicant and a combined table for the merged data."
   ]
  },
  {
   "cell_type": "code",
   "execution_count": 30,
   "metadata": {},
   "outputs": [],
   "source": [
    "# 3)The policy has acquired five riders. The Conversion rider is automatic and allows you to \n",
    "# convert the policy into any cash value life insurance policy available during the 8th \n",
    "# policy year. The face amount of which will equal the current Basic Coverage of the \n",
    "# current policy The Minimum Indexed Benefit rider is automatic and provides an Indexed \n",
    "# Termination Credit (ITC), that results in a credit when the Segment Indexed Interest \n",
    "# credited to eligible Indexed Fixed Options is less than the sum of the Indexed Fixed \n",
    "# Option charges and Indexed Fixed Option asset charges attributable to the eligible \n",
    "# indexed accounts. The ITC will determine many things such as the Net Cash Surrender \n",
    "# Value, Death Benefit and minimum Death Benefit. The Overload Protection 3 rider is \n",
    "# automatic and guarantees that the policy will not lapse. It can only be exercised if all the \n",
    "# conditions for it are met and is provided at no cost until it is exercised. The Short Term \n",
    "# No-Lapse Guarantee Rider is optional and guarantees a Death Benefit to the policyholder \n",
    "# and requires a minimum premium to be paid. The last rider is the Terminal Illness Rider, \n",
    "# which is automatic and gives you access to a portion of the policy’s Basic Coverage face \n",
    "# amount if the policyholder has been diagnosed as terminally ill with a life expectancy of less \n",
    "# than 12 months."
   ]
  },
  {
   "cell_type": "code",
   "execution_count": null,
   "metadata": {},
   "outputs": [],
   "source": []
  }
 ],
 "metadata": {
  "kernelspec": {
   "display_name": "Python 3",
   "language": "python",
   "name": "python3"
  },
  "language_info": {
   "codemirror_mode": {
    "name": "ipython",
    "version": 3
   },
   "file_extension": ".py",
   "mimetype": "text/x-python",
   "name": "python",
   "nbconvert_exporter": "python",
   "pygments_lexer": "ipython3",
   "version": "3.8.5"
  }
 },
 "nbformat": 4,
 "nbformat_minor": 4
}
